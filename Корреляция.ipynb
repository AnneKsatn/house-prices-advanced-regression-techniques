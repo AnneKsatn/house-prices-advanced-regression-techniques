{
 "cells": [
  {
   "cell_type": "code",
   "execution_count": 1,
   "metadata": {},
   "outputs": [],
   "source": [
    "import numpy as np\n",
    "import pandas as pd\n",
    "import statsmodels.api as sm\n",
    "from sklearn.preprocessing import LabelEncoder\n",
    "from sklearn.model_selection import train_test_split\n",
    "from sklearn.linear_model import LinearRegression\n",
    "\n",
    "from sklearn.linear_model import LinearRegression, Lasso, Ridge\n",
    "from sklearn.linear_model import LassoCV, RidgeCV"
   ]
  },
  {
   "cell_type": "code",
   "execution_count": 2,
   "metadata": {},
   "outputs": [],
   "source": [
    "def root_mean_log_squared_error(y_test,predicted):\n",
    "    return np.sqrt(np.sum((np.log(1+y_test)-np.log(1+predicted))**2)/len(predicted))"
   ]
  },
  {
   "cell_type": "code",
   "execution_count": 3,
   "metadata": {},
   "outputs": [],
   "source": [
    "data = pd.read_csv('train.csv')"
   ]
  },
  {
   "cell_type": "code",
   "execution_count": 4,
   "metadata": {},
   "outputs": [],
   "source": [
    "data = data.drop(['Alley','PoolQC','MiscFeature','Fence'], axis = 1)"
   ]
  },
  {
   "cell_type": "code",
   "execution_count": 5,
   "metadata": {},
   "outputs": [],
   "source": [
    "for col in ['GarageYrBlt', 'GarageArea', 'GarageCars', 'MasVnrArea', 'BsmtHalfBath', 'BsmtFullBath', 'TotalBsmtSF', 'BsmtUnfSF',\n",
    "           'BsmtFinSF2', 'BsmtFinSF1','LotFrontage']:\n",
    "    data[col] = data[col].fillna(int(0))"
   ]
  },
  {
   "cell_type": "markdown",
   "metadata": {},
   "source": [
    "## Корреляция "
   ]
  },
  {
   "cell_type": "code",
   "execution_count": 6,
   "metadata": {},
   "outputs": [],
   "source": [
    "train_corr = data.select_dtypes(include=[np.number])"
   ]
  },
  {
   "cell_type": "code",
   "execution_count": 7,
   "metadata": {},
   "outputs": [
    {
     "data": {
      "text/plain": [
       "Index([], dtype='object')"
      ]
     },
     "execution_count": 7,
     "metadata": {},
     "output_type": "execute_result"
    }
   ],
   "source": [
    "train_corr.columns[train_corr.isnull().any()]"
   ]
  },
  {
   "cell_type": "code",
   "execution_count": 8,
   "metadata": {},
   "outputs": [],
   "source": [
    "y = train_corr['SalePrice']"
   ]
  },
  {
   "cell_type": "code",
   "execution_count": 9,
   "metadata": {},
   "outputs": [],
   "source": [
    "del train_corr['SalePrice'] "
   ]
  },
  {
   "cell_type": "code",
   "execution_count": 10,
   "metadata": {},
   "outputs": [],
   "source": [
    "train_corr= sm.add_constant(train_corr)"
   ]
  },
  {
   "cell_type": "code",
   "execution_count": 30,
   "metadata": {},
   "outputs": [
    {
     "data": {
      "text/html": [
       "<table class=\"simpletable\">\n",
       "<caption>OLS Regression Results</caption>\n",
       "<tr>\n",
       "  <th>Dep. Variable:</th>        <td>SalePrice</td>    <th>  R-squared:         </th> <td>   0.815</td> \n",
       "</tr>\n",
       "<tr>\n",
       "  <th>Model:</th>                   <td>OLS</td>       <th>  Adj. R-squared:    </th> <td>   0.813</td> \n",
       "</tr>\n",
       "<tr>\n",
       "  <th>Method:</th>             <td>Least Squares</td>  <th>  F-statistic:       </th> <td>   317.7</td> \n",
       "</tr>\n",
       "<tr>\n",
       "  <th>Date:</th>             <td>Sun, 23 Dec 2018</td> <th>  Prob (F-statistic):</th>  <td>  0.00</td>  \n",
       "</tr>\n",
       "<tr>\n",
       "  <th>Time:</th>                 <td>16:22:27</td>     <th>  Log-Likelihood:    </th> <td> -17311.</td> \n",
       "</tr>\n",
       "<tr>\n",
       "  <th>No. Observations:</th>      <td>  1460</td>      <th>  AIC:               </th> <td>3.466e+04</td>\n",
       "</tr>\n",
       "<tr>\n",
       "  <th>Df Residuals:</th>          <td>  1439</td>      <th>  BIC:               </th> <td>3.477e+04</td>\n",
       "</tr>\n",
       "<tr>\n",
       "  <th>Df Model:</th>              <td>    20</td>      <th>                     </th>     <td> </td>    \n",
       "</tr>\n",
       "<tr>\n",
       "  <th>Covariance Type:</th>      <td>nonrobust</td>    <th>                     </th>     <td> </td>    \n",
       "</tr>\n",
       "</table>\n",
       "<table class=\"simpletable\">\n",
       "<tr>\n",
       "        <td></td>          <th>coef</th>     <th>std err</th>      <th>t</th>      <th>P>|t|</th>  <th>[0.025</th>    <th>0.975]</th>  \n",
       "</tr>\n",
       "<tr>\n",
       "  <th>const</th>        <td>-9.449e+05</td> <td> 1.16e+05</td> <td>   -8.167</td> <td> 0.000</td> <td>-1.17e+06</td> <td>-7.18e+05</td>\n",
       "</tr>\n",
       "<tr>\n",
       "  <th>MSSubClass</th>   <td> -164.0002</td> <td>   25.535</td> <td>   -6.423</td> <td> 0.000</td> <td> -214.090</td> <td> -113.910</td>\n",
       "</tr>\n",
       "<tr>\n",
       "  <th>LotArea</th>      <td>    0.4035</td> <td>    0.099</td> <td>    4.078</td> <td> 0.000</td> <td>    0.209</td> <td>    0.598</td>\n",
       "</tr>\n",
       "<tr>\n",
       "  <th>OverallQual</th>  <td> 1.765e+04</td> <td> 1152.741</td> <td>   15.314</td> <td> 0.000</td> <td> 1.54e+04</td> <td> 1.99e+04</td>\n",
       "</tr>\n",
       "<tr>\n",
       "  <th>OverallCond</th>  <td> 4907.9782</td> <td> 1000.356</td> <td>    4.906</td> <td> 0.000</td> <td> 2945.665</td> <td> 6870.291</td>\n",
       "</tr>\n",
       "<tr>\n",
       "  <th>YearBuilt</th>    <td>  322.4499</td> <td>   51.284</td> <td>    6.287</td> <td> 0.000</td> <td>  221.850</td> <td>  423.050</td>\n",
       "</tr>\n",
       "<tr>\n",
       "  <th>YearRemodAdd</th> <td>  136.6790</td> <td>   64.771</td> <td>    2.110</td> <td> 0.035</td> <td>    9.623</td> <td>  263.735</td>\n",
       "</tr>\n",
       "<tr>\n",
       "  <th>MasVnrArea</th>   <td>   28.0018</td> <td>    5.821</td> <td>    4.811</td> <td> 0.000</td> <td>   16.584</td> <td>   39.419</td>\n",
       "</tr>\n",
       "<tr>\n",
       "  <th>BsmtFinSF1</th>   <td>    9.9273</td> <td>    3.019</td> <td>    3.289</td> <td> 0.001</td> <td>    4.006</td> <td>   15.849</td>\n",
       "</tr>\n",
       "<tr>\n",
       "  <th>TotalBsmtSF</th>  <td>    8.2668</td> <td>    4.090</td> <td>    2.021</td> <td> 0.043</td> <td>    0.245</td> <td>   16.289</td>\n",
       "</tr>\n",
       "<tr>\n",
       "  <th>1stFlrSF</th>     <td>   48.2439</td> <td>    5.424</td> <td>    8.895</td> <td> 0.000</td> <td>   37.604</td> <td>   58.883</td>\n",
       "</tr>\n",
       "<tr>\n",
       "  <th>2ndFlrSF</th>     <td>   47.0279</td> <td>    4.046</td> <td>   11.624</td> <td> 0.000</td> <td>   39.092</td> <td>   54.964</td>\n",
       "</tr>\n",
       "<tr>\n",
       "  <th>BsmtFullBath</th> <td> 7844.4634</td> <td> 2347.971</td> <td>    3.341</td> <td> 0.001</td> <td> 3238.651</td> <td> 1.25e+04</td>\n",
       "</tr>\n",
       "<tr>\n",
       "  <th>BedroomAbvGr</th> <td>-9892.8861</td> <td> 1643.274</td> <td>   -6.020</td> <td> 0.000</td> <td>-1.31e+04</td> <td>-6669.418</td>\n",
       "</tr>\n",
       "<tr>\n",
       "  <th>KitchenAbvGr</th> <td>-1.557e+04</td> <td> 5043.085</td> <td>   -3.087</td> <td> 0.002</td> <td>-2.55e+04</td> <td>-5674.940</td>\n",
       "</tr>\n",
       "<tr>\n",
       "  <th>TotRmsAbvGrd</th> <td> 5183.3916</td> <td> 1199.180</td> <td>    4.322</td> <td> 0.000</td> <td> 2831.063</td> <td> 7535.720</td>\n",
       "</tr>\n",
       "<tr>\n",
       "  <th>Fireplaces</th>   <td> 3730.8671</td> <td> 1724.226</td> <td>    2.164</td> <td> 0.031</td> <td>  348.602</td> <td> 7113.133</td>\n",
       "</tr>\n",
       "<tr>\n",
       "  <th>GarageYrBlt</th>  <td>  -14.9608</td> <td>    2.615</td> <td>   -5.720</td> <td> 0.000</td> <td>  -20.091</td> <td>   -9.831</td>\n",
       "</tr>\n",
       "<tr>\n",
       "  <th>GarageCars</th>   <td> 1.729e+04</td> <td> 2040.372</td> <td>    8.473</td> <td> 0.000</td> <td> 1.33e+04</td> <td> 2.13e+04</td>\n",
       "</tr>\n",
       "<tr>\n",
       "  <th>WoodDeckSF</th>   <td>   24.8592</td> <td>    7.788</td> <td>    3.192</td> <td> 0.001</td> <td>    9.583</td> <td>   40.136</td>\n",
       "</tr>\n",
       "<tr>\n",
       "  <th>ScreenPorch</th>  <td>   53.1236</td> <td>   16.692</td> <td>    3.183</td> <td> 0.001</td> <td>   20.381</td> <td>   85.866</td>\n",
       "</tr>\n",
       "</table>\n",
       "<table class=\"simpletable\">\n",
       "<tr>\n",
       "  <th>Omnibus:</th>       <td>683.994</td> <th>  Durbin-Watson:     </th>  <td>   1.949</td> \n",
       "</tr>\n",
       "<tr>\n",
       "  <th>Prob(Omnibus):</th> <td> 0.000</td>  <th>  Jarque-Bera (JB):  </th> <td>120886.663</td>\n",
       "</tr>\n",
       "<tr>\n",
       "  <th>Skew:</th>          <td>-1.066</td>  <th>  Prob(JB):          </th>  <td>    0.00</td> \n",
       "</tr>\n",
       "<tr>\n",
       "  <th>Kurtosis:</th>      <td>47.527</td>  <th>  Cond. No.          </th>  <td>1.90e+06</td> \n",
       "</tr>\n",
       "</table><br/><br/>Warnings:<br/>[1] Standard Errors assume that the covariance matrix of the errors is correctly specified.<br/>[2] The condition number is large, 1.9e+06. This might indicate that there are<br/>strong multicollinearity or other numerical problems."
      ],
      "text/plain": [
       "<class 'statsmodels.iolib.summary.Summary'>\n",
       "\"\"\"\n",
       "                            OLS Regression Results                            \n",
       "==============================================================================\n",
       "Dep. Variable:              SalePrice   R-squared:                       0.815\n",
       "Model:                            OLS   Adj. R-squared:                  0.813\n",
       "Method:                 Least Squares   F-statistic:                     317.7\n",
       "Date:                Sun, 23 Dec 2018   Prob (F-statistic):               0.00\n",
       "Time:                        16:22:27   Log-Likelihood:                -17311.\n",
       "No. Observations:                1460   AIC:                         3.466e+04\n",
       "Df Residuals:                    1439   BIC:                         3.477e+04\n",
       "Df Model:                          20                                         \n",
       "Covariance Type:            nonrobust                                         \n",
       "================================================================================\n",
       "                   coef    std err          t      P>|t|      [0.025      0.975]\n",
       "--------------------------------------------------------------------------------\n",
       "const        -9.449e+05   1.16e+05     -8.167      0.000   -1.17e+06   -7.18e+05\n",
       "MSSubClass    -164.0002     25.535     -6.423      0.000    -214.090    -113.910\n",
       "LotArea          0.4035      0.099      4.078      0.000       0.209       0.598\n",
       "OverallQual   1.765e+04   1152.741     15.314      0.000    1.54e+04    1.99e+04\n",
       "OverallCond   4907.9782   1000.356      4.906      0.000    2945.665    6870.291\n",
       "YearBuilt      322.4499     51.284      6.287      0.000     221.850     423.050\n",
       "YearRemodAdd   136.6790     64.771      2.110      0.035       9.623     263.735\n",
       "MasVnrArea      28.0018      5.821      4.811      0.000      16.584      39.419\n",
       "BsmtFinSF1       9.9273      3.019      3.289      0.001       4.006      15.849\n",
       "TotalBsmtSF      8.2668      4.090      2.021      0.043       0.245      16.289\n",
       "1stFlrSF        48.2439      5.424      8.895      0.000      37.604      58.883\n",
       "2ndFlrSF        47.0279      4.046     11.624      0.000      39.092      54.964\n",
       "BsmtFullBath  7844.4634   2347.971      3.341      0.001    3238.651    1.25e+04\n",
       "BedroomAbvGr -9892.8861   1643.274     -6.020      0.000   -1.31e+04   -6669.418\n",
       "KitchenAbvGr -1.557e+04   5043.085     -3.087      0.002   -2.55e+04   -5674.940\n",
       "TotRmsAbvGrd  5183.3916   1199.180      4.322      0.000    2831.063    7535.720\n",
       "Fireplaces    3730.8671   1724.226      2.164      0.031     348.602    7113.133\n",
       "GarageYrBlt    -14.9608      2.615     -5.720      0.000     -20.091      -9.831\n",
       "GarageCars    1.729e+04   2040.372      8.473      0.000    1.33e+04    2.13e+04\n",
       "WoodDeckSF      24.8592      7.788      3.192      0.001       9.583      40.136\n",
       "ScreenPorch     53.1236     16.692      3.183      0.001      20.381      85.866\n",
       "==============================================================================\n",
       "Omnibus:                      683.994   Durbin-Watson:                   1.949\n",
       "Prob(Omnibus):                  0.000   Jarque-Bera (JB):           120886.663\n",
       "Skew:                          -1.066   Prob(JB):                         0.00\n",
       "Kurtosis:                      47.527   Cond. No.                     1.90e+06\n",
       "==============================================================================\n",
       "\n",
       "Warnings:\n",
       "[1] Standard Errors assume that the covariance matrix of the errors is correctly specified.\n",
       "[2] The condition number is large, 1.9e+06. This might indicate that there are\n",
       "strong multicollinearity or other numerical problems.\n",
       "\"\"\""
      ]
     },
     "execution_count": 30,
     "metadata": {},
     "output_type": "execute_result"
    }
   ],
   "source": [
    "regressor_OLS = sm.OLS(endog = y, exog = train_corr).fit()\n",
    "regressor_OLS.summary()"
   ]
  },
  {
   "cell_type": "code",
   "execution_count": 12,
   "metadata": {},
   "outputs": [],
   "source": [
    "del train_corr['Id'] "
   ]
  },
  {
   "cell_type": "code",
   "execution_count": 13,
   "metadata": {},
   "outputs": [],
   "source": [
    "del train_corr['MoSold'] "
   ]
  },
  {
   "cell_type": "code",
   "execution_count": 14,
   "metadata": {},
   "outputs": [],
   "source": [
    "del train_corr['MiscVal'] "
   ]
  },
  {
   "cell_type": "code",
   "execution_count": 15,
   "metadata": {},
   "outputs": [],
   "source": [
    "del train_corr['BsmtUnfSF']"
   ]
  },
  {
   "cell_type": "code",
   "execution_count": 16,
   "metadata": {},
   "outputs": [],
   "source": [
    "del train_corr['BsmtFinSF2'] "
   ]
  },
  {
   "cell_type": "code",
   "execution_count": 17,
   "metadata": {},
   "outputs": [],
   "source": [
    "del train_corr['OpenPorchSF'] "
   ]
  },
  {
   "cell_type": "code",
   "execution_count": 18,
   "metadata": {},
   "outputs": [],
   "source": [
    "del train_corr['LowQualFinSF'] "
   ]
  },
  {
   "cell_type": "code",
   "execution_count": 19,
   "metadata": {},
   "outputs": [],
   "source": [
    "del train_corr['BsmtHalfBath'] "
   ]
  },
  {
   "cell_type": "code",
   "execution_count": 20,
   "metadata": {},
   "outputs": [],
   "source": [
    "del train_corr['GarageArea'] "
   ]
  },
  {
   "cell_type": "code",
   "execution_count": 21,
   "metadata": {},
   "outputs": [],
   "source": [
    "del train_corr['HalfBath'] "
   ]
  },
  {
   "cell_type": "code",
   "execution_count": 22,
   "metadata": {},
   "outputs": [],
   "source": [
    "del train_corr['3SsnPorch'] "
   ]
  },
  {
   "cell_type": "code",
   "execution_count": 23,
   "metadata": {},
   "outputs": [],
   "source": [
    "del train_corr['YrSold']"
   ]
  },
  {
   "cell_type": "code",
   "execution_count": 24,
   "metadata": {},
   "outputs": [],
   "source": [
    "del train_corr['EnclosedPorch'] "
   ]
  },
  {
   "cell_type": "code",
   "execution_count": 25,
   "metadata": {},
   "outputs": [],
   "source": [
    "del train_corr['GrLivArea']"
   ]
  },
  {
   "cell_type": "code",
   "execution_count": 26,
   "metadata": {},
   "outputs": [],
   "source": [
    "del train_corr['PoolArea'] "
   ]
  },
  {
   "cell_type": "code",
   "execution_count": 27,
   "metadata": {},
   "outputs": [],
   "source": [
    "del train_corr['FullBath'] "
   ]
  },
  {
   "cell_type": "code",
   "execution_count": 29,
   "metadata": {},
   "outputs": [],
   "source": [
    "del train_corr['LotFrontage'] "
   ]
  }
 ],
 "metadata": {
  "kernelspec": {
   "display_name": "Python 3",
   "language": "python",
   "name": "python3"
  },
  "language_info": {
   "codemirror_mode": {
    "name": "ipython",
    "version": 3
   },
   "file_extension": ".py",
   "mimetype": "text/x-python",
   "name": "python",
   "nbconvert_exporter": "python",
   "pygments_lexer": "ipython3",
   "version": "3.6.7"
  },
  "widgets": {
   "application/vnd.jupyter.widget-state+json": {
    "state": {},
    "version_major": 2,
    "version_minor": 0
   }
  }
 },
 "nbformat": 4,
 "nbformat_minor": 2
}
